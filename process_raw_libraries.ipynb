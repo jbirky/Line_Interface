{
 "cells": [
  {
   "cell_type": "code",
   "execution_count": 48,
   "metadata": {},
   "outputs": [
    {
     "name": "stderr",
     "output_type": "stream",
     "text": [
      "/home/jess/anaconda3/lib/python3.6/site-packages/h5py/__init__.py:34: FutureWarning: Conversion of the second argument of issubdtype from `float` to `np.floating` is deprecated. In future, it will be treated as `np.float64 == np.dtype(float).type`.\n",
      "  from ._conv import register_converters as _register_converters\n"
     ]
    }
   ],
   "source": [
    "import numpy as np\n",
    "import pandas as pd\n",
    "from astropy.io import ascii\n",
    "import os\n",
    "import h5py\n",
    "\n",
    "rng = [15000,17000]"
   ]
  },
  {
   "cell_type": "code",
   "execution_count": 35,
   "metadata": {},
   "outputs": [],
   "source": [
    "OH_lines_wn = []\n",
    "with open('HITEMP/OH.par', 'r') as file:\n",
    "    for line in file:\n",
    "        OH_lines_wn.append(line[3:15])\n",
    "        \n",
    "NO_lines_wn = []\n",
    "with open('HITEMP/NO.par', 'r') as file:\n",
    "    for line in file:\n",
    "        NO_lines_wn.append(line[3:15])\n",
    "        \n",
    "CO_lines_wn = []\n",
    "with open('HITEMP/CO.par', 'r') as file:\n",
    "    for line in file:\n",
    "        CO_lines_wn.append(line[3:15])"
   ]
  },
  {
   "cell_type": "code",
   "execution_count": 42,
   "metadata": {},
   "outputs": [
    {
     "data": {
      "text/plain": [
       "(41557, 115610, 113631)"
      ]
     },
     "execution_count": 42,
     "metadata": {},
     "output_type": "execute_result"
    }
   ],
   "source": [
    "len(OH_lines_wn), len(NO_lines_wn), len(CO_lines_wn)"
   ]
  },
  {
   "cell_type": "code",
   "execution_count": 43,
   "metadata": {},
   "outputs": [],
   "source": [
    "OH_lines = np.array([10**7/float(line) for line in OH_lines_wn])\n",
    "NO_lines = np.array([10**7/float(line) for line in NO_lines_wn])\n",
    "CO_lines = np.array([10**7/float(line) for line in CO_lines_wn])"
   ]
  },
  {
   "cell_type": "code",
   "execution_count": 46,
   "metadata": {},
   "outputs": [],
   "source": [
    "OH_ap_rng = np.where((OH_lines > rng[0]) & (OH_lines < rng[1]))\n",
    "NO_ap_rng = np.where((NO_lines > rng[0]) & (NO_lines < rng[1]))\n",
    "CO_ap_rng = np.where((CO_lines > rng[0]) & (CO_lines < rng[1]))\n",
    "\n",
    "OH_AP = OH_lines[OH_ap_rng]\n",
    "NO_AP = OH_lines[NO_ap_rng]\n",
    "CO_AP = OH_lines[CO_ap_rng]"
   ]
  },
  {
   "cell_type": "code",
   "execution_count": 47,
   "metadata": {},
   "outputs": [
    {
     "data": {
      "text/plain": [
       "(195, 339, 0)"
      ]
     },
     "execution_count": 47,
     "metadata": {},
     "output_type": "execute_result"
    }
   ],
   "source": [
    "len(OH_AP), len(NO_AP), len(CO_AP)"
   ]
  },
  {
   "cell_type": "code",
   "execution_count": 63,
   "metadata": {},
   "outputs": [],
   "source": [
    "hf = h5py.File('HITEMP_APOGEE.hdf5', 'w')\n",
    "hf.create_dataset('OH', data=OH_AP)\n",
    "hf.create_dataset('NO', data=NO_AP)\n",
    "hf.create_dataset('CO', data=CO_AP)\n",
    "hf.close()"
   ]
  },
  {
   "cell_type": "code",
   "execution_count": 61,
   "metadata": {},
   "outputs": [],
   "source": [
    "hf = h5py.File('HITEMP.hdf5', 'r')\n",
    "n = hf.get('OH')"
   ]
  },
  {
   "cell_type": "code",
   "execution_count": null,
   "metadata": {
    "collapsed": true
   },
   "outputs": [],
   "source": []
  },
  {
   "cell_type": "code",
   "execution_count": null,
   "metadata": {
    "collapsed": true
   },
   "outputs": [],
   "source": []
  }
 ],
 "metadata": {
  "kernelspec": {
   "display_name": "Python 3",
   "language": "python",
   "name": "python3"
  },
  "language_info": {
   "codemirror_mode": {
    "name": "ipython",
    "version": 3
   },
   "file_extension": ".py",
   "mimetype": "text/x-python",
   "name": "python",
   "nbconvert_exporter": "python",
   "pygments_lexer": "ipython3",
   "version": "3.6.3"
  }
 },
 "nbformat": 4,
 "nbformat_minor": 2
}
